{
 "cells": [
  {
   "cell_type": "code",
   "execution_count": 106,
   "metadata": {},
   "outputs": [],
   "source": [
    "import numpy as np\n",
    "import pandas as pd\n",
    "import matplotlib.pyplot as plt\n",
    "%matplotlib inline\n",
    "import json\n",
    "import re\n",
    "import pickle\n",
    "import seaborn as sns"
   ]
  },
  {
   "cell_type": "code",
   "execution_count": 3,
   "metadata": {},
   "outputs": [],
   "source": [
    "hotstar_train_path = './data/train_data.json'"
   ]
  },
  {
   "cell_type": "code",
   "execution_count": 12,
   "metadata": {},
   "outputs": [],
   "source": [
    "ht_dt = pd.read_json(hotstar_train_path,orient='index')"
   ]
  },
  {
   "cell_type": "code",
   "execution_count": 13,
   "metadata": {},
   "outputs": [],
   "source": [
    "train_data = pd.DataFrame() #dataframe to save processed data"
   ]
  },
  {
   "cell_type": "code",
   "execution_count": 101,
   "metadata": {},
   "outputs": [],
   "source": [
    "#compute watch count\n",
    "def wcount(p): \n",
    "    return p.count(',')+1"
   ]
  },
  {
   "cell_type": "code",
   "execution_count": 15,
   "metadata": {},
   "outputs": [],
   "source": [
    "#calculating count for columns\n",
    "\n",
    "train_data['title_count'] = ht_dt['titles'].map(wcount)\n",
    "train_data['genres_count'] = ht_dt['genres'].map(wcount)\n",
    "train_data['cities_count'] = ht_dt['cities'].map(wcount)\n",
    "train_data['tod_count'] = ht_dt['tod'].map(wcount)\n",
    "train_data['dow_count'] = ht_dt['dow'].map(wcount)"
   ]
  },
  {
   "cell_type": "code",
   "execution_count": 18,
   "metadata": {},
   "outputs": [
    {
     "data": {
      "text/html": [
       "<div>\n",
       "<style scoped>\n",
       "    .dataframe tbody tr th:only-of-type {\n",
       "        vertical-align: middle;\n",
       "    }\n",
       "\n",
       "    .dataframe tbody tr th {\n",
       "        vertical-align: top;\n",
       "    }\n",
       "\n",
       "    .dataframe thead th {\n",
       "        text-align: right;\n",
       "    }\n",
       "</style>\n",
       "<table border=\"1\" class=\"dataframe\">\n",
       "  <thead>\n",
       "    <tr style=\"text-align: right;\">\n",
       "      <th></th>\n",
       "      <th>title_count</th>\n",
       "      <th>genres_count</th>\n",
       "      <th>cities_count</th>\n",
       "      <th>tod_count</th>\n",
       "      <th>dow_count</th>\n",
       "    </tr>\n",
       "  </thead>\n",
       "  <tbody>\n",
       "    <tr>\n",
       "      <th>train-1</th>\n",
       "      <td>60</td>\n",
       "      <td>3</td>\n",
       "      <td>2</td>\n",
       "      <td>14</td>\n",
       "      <td>7</td>\n",
       "    </tr>\n",
       "    <tr>\n",
       "      <th>train-10</th>\n",
       "      <td>70</td>\n",
       "      <td>2</td>\n",
       "      <td>3</td>\n",
       "      <td>16</td>\n",
       "      <td>7</td>\n",
       "    </tr>\n",
       "    <tr>\n",
       "      <th>train-100</th>\n",
       "      <td>2</td>\n",
       "      <td>2</td>\n",
       "      <td>1</td>\n",
       "      <td>3</td>\n",
       "      <td>1</td>\n",
       "    </tr>\n",
       "    <tr>\n",
       "      <th>train-1000</th>\n",
       "      <td>8</td>\n",
       "      <td>2</td>\n",
       "      <td>3</td>\n",
       "      <td>6</td>\n",
       "      <td>5</td>\n",
       "    </tr>\n",
       "    <tr>\n",
       "      <th>train-10000</th>\n",
       "      <td>11</td>\n",
       "      <td>3</td>\n",
       "      <td>2</td>\n",
       "      <td>9</td>\n",
       "      <td>5</td>\n",
       "    </tr>\n",
       "  </tbody>\n",
       "</table>\n",
       "</div>"
      ],
      "text/plain": [
       "             title_count  genres_count  cities_count  tod_count  dow_count\n",
       "train-1               60             3             2         14          7\n",
       "train-10              70             2             3         16          7\n",
       "train-100              2             2             1          3          1\n",
       "train-1000             8             2             3          6          5\n",
       "train-10000           11             3             2          9          5"
      ]
     },
     "execution_count": 18,
     "metadata": {},
     "output_type": "execute_result"
    }
   ],
   "source": [
    "train_data.head()\n",
    "#need to scale before modelling"
   ]
  },
  {
   "cell_type": "code",
   "execution_count": 28,
   "metadata": {},
   "outputs": [],
   "source": [
    "ht_dt['g1'] = [re.sub(pattern='\\:\\d+',repl='',string=x) for x in ht_dt['genres']]"
   ]
  },
  {
   "cell_type": "code",
   "execution_count": 29,
   "metadata": {},
   "outputs": [],
   "source": [
    "ht_dt['g1'] = ht_dt['g1'].apply(lambda x: x.split(','))"
   ]
  },
  {
   "cell_type": "code",
   "execution_count": 30,
   "metadata": {},
   "outputs": [],
   "source": [
    "t1 = pd.Series(ht_dt['g1']).apply(frozenset).to_frame(name='t_genre')"
   ]
  },
  {
   "cell_type": "code",
   "execution_count": 32,
   "metadata": {},
   "outputs": [],
   "source": [
    "for t_genre in frozenset.union(*t1.t_genre):\n",
    "    t1[t_genre] = t1.apply(lambda _: int(t_genre in _.t_genre), axis=1)"
   ]
  },
  {
   "cell_type": "code",
   "execution_count": null,
   "metadata": {
    "scrolled": true
   },
   "outputs": [],
   "source": []
  },
  {
   "cell_type": "code",
   "execution_count": 34,
   "metadata": {},
   "outputs": [],
   "source": [
    "t1[\"Sports\"] = t1.Boxing + t1.Hockey + t1.FormulaE + t1.Cricket + t1.Football + t1.Tennis + t1.Kabaddi + t1.IndiaVsSa + t1[\"Table Tennis\"] + t1.Volleyball + t1.Athletics + t1.Swimming + t1.Formula1 + t1.Badminton + t1.Sport"
   ]
  },
  {
   "cell_type": "code",
   "execution_count": 36,
   "metadata": {
    "scrolled": true
   },
   "outputs": [
    {
     "data": {
      "text/html": [
       "<div>\n",
       "<style scoped>\n",
       "    .dataframe tbody tr th:only-of-type {\n",
       "        vertical-align: middle;\n",
       "    }\n",
       "\n",
       "    .dataframe tbody tr th {\n",
       "        vertical-align: top;\n",
       "    }\n",
       "\n",
       "    .dataframe thead th {\n",
       "        text-align: right;\n",
       "    }\n",
       "</style>\n",
       "<table border=\"1\" class=\"dataframe\">\n",
       "  <thead>\n",
       "    <tr style=\"text-align: right;\">\n",
       "      <th></th>\n",
       "      <th>t_genre</th>\n",
       "      <th>Cricket</th>\n",
       "      <th>Tennis</th>\n",
       "      <th>Comedy</th>\n",
       "      <th>Swimming</th>\n",
       "      <th>Athletics</th>\n",
       "      <th>Wildlife</th>\n",
       "      <th>Science</th>\n",
       "      <th>Family</th>\n",
       "      <th>Kabaddi</th>\n",
       "      <th>...</th>\n",
       "      <th>Boxing</th>\n",
       "      <th>Table Tennis</th>\n",
       "      <th>Hockey</th>\n",
       "      <th>Romance</th>\n",
       "      <th>TalkShow</th>\n",
       "      <th>NA</th>\n",
       "      <th>LiveTV</th>\n",
       "      <th>Volleyball</th>\n",
       "      <th>Sport</th>\n",
       "      <th>Sports</th>\n",
       "    </tr>\n",
       "  </thead>\n",
       "  <tbody>\n",
       "    <tr>\n",
       "      <th>train-1</th>\n",
       "      <td>(Kabaddi, Reality, Cricket)</td>\n",
       "      <td>1</td>\n",
       "      <td>0</td>\n",
       "      <td>0</td>\n",
       "      <td>0</td>\n",
       "      <td>0</td>\n",
       "      <td>0</td>\n",
       "      <td>0</td>\n",
       "      <td>0</td>\n",
       "      <td>1</td>\n",
       "      <td>...</td>\n",
       "      <td>0</td>\n",
       "      <td>0</td>\n",
       "      <td>0</td>\n",
       "      <td>0</td>\n",
       "      <td>0</td>\n",
       "      <td>0</td>\n",
       "      <td>0</td>\n",
       "      <td>0</td>\n",
       "      <td>0</td>\n",
       "      <td>2</td>\n",
       "    </tr>\n",
       "    <tr>\n",
       "      <th>train-10</th>\n",
       "      <td>(Wildlife, Cricket)</td>\n",
       "      <td>1</td>\n",
       "      <td>0</td>\n",
       "      <td>0</td>\n",
       "      <td>0</td>\n",
       "      <td>0</td>\n",
       "      <td>1</td>\n",
       "      <td>0</td>\n",
       "      <td>0</td>\n",
       "      <td>0</td>\n",
       "      <td>...</td>\n",
       "      <td>0</td>\n",
       "      <td>0</td>\n",
       "      <td>0</td>\n",
       "      <td>0</td>\n",
       "      <td>0</td>\n",
       "      <td>0</td>\n",
       "      <td>0</td>\n",
       "      <td>0</td>\n",
       "      <td>0</td>\n",
       "      <td>1</td>\n",
       "    </tr>\n",
       "    <tr>\n",
       "      <th>train-100</th>\n",
       "      <td>(LiveTV, Football)</td>\n",
       "      <td>0</td>\n",
       "      <td>0</td>\n",
       "      <td>0</td>\n",
       "      <td>0</td>\n",
       "      <td>0</td>\n",
       "      <td>0</td>\n",
       "      <td>0</td>\n",
       "      <td>0</td>\n",
       "      <td>0</td>\n",
       "      <td>...</td>\n",
       "      <td>0</td>\n",
       "      <td>0</td>\n",
       "      <td>0</td>\n",
       "      <td>0</td>\n",
       "      <td>0</td>\n",
       "      <td>0</td>\n",
       "      <td>1</td>\n",
       "      <td>0</td>\n",
       "      <td>0</td>\n",
       "      <td>1</td>\n",
       "    </tr>\n",
       "    <tr>\n",
       "      <th>train-1000</th>\n",
       "      <td>(TalkShow, Cricket)</td>\n",
       "      <td>1</td>\n",
       "      <td>0</td>\n",
       "      <td>0</td>\n",
       "      <td>0</td>\n",
       "      <td>0</td>\n",
       "      <td>0</td>\n",
       "      <td>0</td>\n",
       "      <td>0</td>\n",
       "      <td>0</td>\n",
       "      <td>...</td>\n",
       "      <td>0</td>\n",
       "      <td>0</td>\n",
       "      <td>0</td>\n",
       "      <td>0</td>\n",
       "      <td>1</td>\n",
       "      <td>0</td>\n",
       "      <td>0</td>\n",
       "      <td>0</td>\n",
       "      <td>0</td>\n",
       "      <td>1</td>\n",
       "    </tr>\n",
       "    <tr>\n",
       "      <th>train-10000</th>\n",
       "      <td>(Reality, Drama, Cricket)</td>\n",
       "      <td>1</td>\n",
       "      <td>0</td>\n",
       "      <td>0</td>\n",
       "      <td>0</td>\n",
       "      <td>0</td>\n",
       "      <td>0</td>\n",
       "      <td>0</td>\n",
       "      <td>0</td>\n",
       "      <td>0</td>\n",
       "      <td>...</td>\n",
       "      <td>0</td>\n",
       "      <td>0</td>\n",
       "      <td>0</td>\n",
       "      <td>0</td>\n",
       "      <td>0</td>\n",
       "      <td>0</td>\n",
       "      <td>0</td>\n",
       "      <td>0</td>\n",
       "      <td>0</td>\n",
       "      <td>1</td>\n",
       "    </tr>\n",
       "  </tbody>\n",
       "</table>\n",
       "<p>5 rows × 37 columns</p>\n",
       "</div>"
      ],
      "text/plain": [
       "                                 t_genre  Cricket  Tennis  Comedy  Swimming  \\\n",
       "train-1      (Kabaddi, Reality, Cricket)        1       0       0         0   \n",
       "train-10             (Wildlife, Cricket)        1       0       0         0   \n",
       "train-100             (LiveTV, Football)        0       0       0         0   \n",
       "train-1000           (TalkShow, Cricket)        1       0       0         0   \n",
       "train-10000    (Reality, Drama, Cricket)        1       0       0         0   \n",
       "\n",
       "             Athletics  Wildlife  Science  Family  Kabaddi   ...    Boxing  \\\n",
       "train-1              0         0        0       0        1   ...         0   \n",
       "train-10             0         1        0       0        0   ...         0   \n",
       "train-100            0         0        0       0        0   ...         0   \n",
       "train-1000           0         0        0       0        0   ...         0   \n",
       "train-10000          0         0        0       0        0   ...         0   \n",
       "\n",
       "             Table Tennis  Hockey  Romance  TalkShow  NA  LiveTV  Volleyball  \\\n",
       "train-1                 0       0        0         0   0       0           0   \n",
       "train-10                0       0        0         0   0       0           0   \n",
       "train-100               0       0        0         0   0       1           0   \n",
       "train-1000              0       0        0         1   0       0           0   \n",
       "train-10000             0       0        0         0   0       0           0   \n",
       "\n",
       "             Sport  Sports  \n",
       "train-1          0       2  \n",
       "train-10         0       1  \n",
       "train-100        0       1  \n",
       "train-1000       0       1  \n",
       "train-10000      0       1  \n",
       "\n",
       "[5 rows x 37 columns]"
      ]
     },
     "execution_count": 36,
     "metadata": {},
     "output_type": "execute_result"
    }
   ],
   "source": [
    "t1.head()"
   ]
  },
  {
   "cell_type": "code",
   "execution_count": 45,
   "metadata": {},
   "outputs": [],
   "source": [
    "train_data = pd.merge(train_data, t1, left_index=True,right_index=True)"
   ]
  },
  {
   "cell_type": "code",
   "execution_count": 47,
   "metadata": {},
   "outputs": [],
   "source": [
    "train_data.drop('t_genre',inplace=True,axis=1)"
   ]
  },
  {
   "cell_type": "code",
   "execution_count": 51,
   "metadata": {},
   "outputs": [],
   "source": [
    "train_data.drop('NA',inplace=True,axis=1)"
   ]
  },
  {
   "cell_type": "code",
   "execution_count": 99,
   "metadata": {},
   "outputs": [],
   "source": [
    "#train_data"
   ]
  },
  {
   "cell_type": "code",
   "execution_count": 53,
   "metadata": {},
   "outputs": [],
   "source": [
    "ht_dt['g2'] = [re.sub(pattern='\\:\\d+', repl='', string = x) for x in ht_dt['dow']]\n",
    "ht_dt['g2'] = ht_dt['g2'].apply(lambda x: x.split(','))"
   ]
  },
  {
   "cell_type": "code",
   "execution_count": 56,
   "metadata": {},
   "outputs": [
    {
     "data": {
      "text/plain": [
       "train-1        [1, 3, 2, 5, 4, 7, 6]\n",
       "train-10       [1, 3, 2, 5, 4, 7, 6]\n",
       "train-100                        [3]\n",
       "train-1000           [1, 3, 5, 4, 7]\n",
       "train-10000          [1, 2, 4, 7, 6]\n",
       "Name: g2, dtype: object"
      ]
     },
     "execution_count": 56,
     "metadata": {},
     "output_type": "execute_result"
    }
   ],
   "source": [
    "ht_dt['g2'].head()"
   ]
  },
  {
   "cell_type": "code",
   "execution_count": 57,
   "metadata": {},
   "outputs": [],
   "source": [
    "t2 = pd.Series(ht_dt['g2']).apply(frozenset).to_frame(name='t_dow')"
   ]
  },
  {
   "cell_type": "code",
   "execution_count": 59,
   "metadata": {
    "scrolled": true
   },
   "outputs": [
    {
     "data": {
      "text/html": [
       "<div>\n",
       "<style scoped>\n",
       "    .dataframe tbody tr th:only-of-type {\n",
       "        vertical-align: middle;\n",
       "    }\n",
       "\n",
       "    .dataframe tbody tr th {\n",
       "        vertical-align: top;\n",
       "    }\n",
       "\n",
       "    .dataframe thead th {\n",
       "        text-align: right;\n",
       "    }\n",
       "</style>\n",
       "<table border=\"1\" class=\"dataframe\">\n",
       "  <thead>\n",
       "    <tr style=\"text-align: right;\">\n",
       "      <th></th>\n",
       "      <th>t_dow</th>\n",
       "    </tr>\n",
       "  </thead>\n",
       "  <tbody>\n",
       "    <tr>\n",
       "      <th>train-1</th>\n",
       "      <td>(1, 2, 4, 7, 3, 5, 6)</td>\n",
       "    </tr>\n",
       "    <tr>\n",
       "      <th>train-10</th>\n",
       "      <td>(1, 2, 4, 7, 3, 5, 6)</td>\n",
       "    </tr>\n",
       "    <tr>\n",
       "      <th>train-100</th>\n",
       "      <td>(3)</td>\n",
       "    </tr>\n",
       "    <tr>\n",
       "      <th>train-1000</th>\n",
       "      <td>(1, 4, 7, 3, 5)</td>\n",
       "    </tr>\n",
       "    <tr>\n",
       "      <th>train-10000</th>\n",
       "      <td>(1, 2, 4, 7, 6)</td>\n",
       "    </tr>\n",
       "  </tbody>\n",
       "</table>\n",
       "</div>"
      ],
      "text/plain": [
       "                             t_dow\n",
       "train-1      (1, 2, 4, 7, 3, 5, 6)\n",
       "train-10     (1, 2, 4, 7, 3, 5, 6)\n",
       "train-100                      (3)\n",
       "train-1000         (1, 4, 7, 3, 5)\n",
       "train-10000        (1, 2, 4, 7, 6)"
      ]
     },
     "execution_count": 59,
     "metadata": {},
     "output_type": "execute_result"
    }
   ],
   "source": [
    "t2.head()"
   ]
  },
  {
   "cell_type": "code",
   "execution_count": 60,
   "metadata": {},
   "outputs": [],
   "source": [
    "for t_dow in frozenset.union(*t2.t_dow):\n",
    "    t2[t_dow] = t2.apply(lambda _: int(t_dow in _.t_dow), axis = 1)"
   ]
  },
  {
   "cell_type": "code",
   "execution_count": 64,
   "metadata": {},
   "outputs": [],
   "source": [
    "t2.columns = ['t_dow','dow_1','dow_2','dow_4','dow_7','dow_3','dow_5','dow_6']"
   ]
  },
  {
   "cell_type": "code",
   "execution_count": 66,
   "metadata": {},
   "outputs": [],
   "source": [
    "train_data = pd.merge(train_data, t2, left_index=True,right_index=True)"
   ]
  },
  {
   "cell_type": "code",
   "execution_count": 70,
   "metadata": {
    "scrolled": false
   },
   "outputs": [],
   "source": [
    "#train_data.head()"
   ]
  },
  {
   "cell_type": "code",
   "execution_count": 68,
   "metadata": {},
   "outputs": [],
   "source": [
    "train_data.drop('t_dow',inplace=True,axis=1)"
   ]
  },
  {
   "cell_type": "code",
   "execution_count": 69,
   "metadata": {
    "scrolled": true
   },
   "outputs": [
    {
     "data": {
      "text/html": [
       "<div>\n",
       "<style scoped>\n",
       "    .dataframe tbody tr th:only-of-type {\n",
       "        vertical-align: middle;\n",
       "    }\n",
       "\n",
       "    .dataframe tbody tr th {\n",
       "        vertical-align: top;\n",
       "    }\n",
       "\n",
       "    .dataframe thead th {\n",
       "        text-align: right;\n",
       "    }\n",
       "</style>\n",
       "<table border=\"1\" class=\"dataframe\">\n",
       "  <thead>\n",
       "    <tr style=\"text-align: right;\">\n",
       "      <th></th>\n",
       "      <th>title_count</th>\n",
       "      <th>genres_count</th>\n",
       "      <th>cities_count</th>\n",
       "      <th>tod_count</th>\n",
       "      <th>dow_count</th>\n",
       "      <th>Cricket</th>\n",
       "      <th>Tennis</th>\n",
       "      <th>Comedy</th>\n",
       "      <th>Swimming</th>\n",
       "      <th>Athletics</th>\n",
       "      <th>...</th>\n",
       "      <th>Volleyball</th>\n",
       "      <th>Sport</th>\n",
       "      <th>Sports</th>\n",
       "      <th>dow_1</th>\n",
       "      <th>dow_2</th>\n",
       "      <th>dow_4</th>\n",
       "      <th>dow_7</th>\n",
       "      <th>dow_3</th>\n",
       "      <th>dow_5</th>\n",
       "      <th>dow_6</th>\n",
       "    </tr>\n",
       "  </thead>\n",
       "  <tbody>\n",
       "    <tr>\n",
       "      <th>train-1</th>\n",
       "      <td>60</td>\n",
       "      <td>3</td>\n",
       "      <td>2</td>\n",
       "      <td>14</td>\n",
       "      <td>7</td>\n",
       "      <td>1</td>\n",
       "      <td>0</td>\n",
       "      <td>0</td>\n",
       "      <td>0</td>\n",
       "      <td>0</td>\n",
       "      <td>...</td>\n",
       "      <td>0</td>\n",
       "      <td>0</td>\n",
       "      <td>2</td>\n",
       "      <td>1</td>\n",
       "      <td>1</td>\n",
       "      <td>1</td>\n",
       "      <td>1</td>\n",
       "      <td>1</td>\n",
       "      <td>1</td>\n",
       "      <td>1</td>\n",
       "    </tr>\n",
       "    <tr>\n",
       "      <th>train-10</th>\n",
       "      <td>70</td>\n",
       "      <td>2</td>\n",
       "      <td>3</td>\n",
       "      <td>16</td>\n",
       "      <td>7</td>\n",
       "      <td>1</td>\n",
       "      <td>0</td>\n",
       "      <td>0</td>\n",
       "      <td>0</td>\n",
       "      <td>0</td>\n",
       "      <td>...</td>\n",
       "      <td>0</td>\n",
       "      <td>0</td>\n",
       "      <td>1</td>\n",
       "      <td>1</td>\n",
       "      <td>1</td>\n",
       "      <td>1</td>\n",
       "      <td>1</td>\n",
       "      <td>1</td>\n",
       "      <td>1</td>\n",
       "      <td>1</td>\n",
       "    </tr>\n",
       "    <tr>\n",
       "      <th>train-100</th>\n",
       "      <td>2</td>\n",
       "      <td>2</td>\n",
       "      <td>1</td>\n",
       "      <td>3</td>\n",
       "      <td>1</td>\n",
       "      <td>0</td>\n",
       "      <td>0</td>\n",
       "      <td>0</td>\n",
       "      <td>0</td>\n",
       "      <td>0</td>\n",
       "      <td>...</td>\n",
       "      <td>0</td>\n",
       "      <td>0</td>\n",
       "      <td>1</td>\n",
       "      <td>0</td>\n",
       "      <td>0</td>\n",
       "      <td>0</td>\n",
       "      <td>0</td>\n",
       "      <td>1</td>\n",
       "      <td>0</td>\n",
       "      <td>0</td>\n",
       "    </tr>\n",
       "    <tr>\n",
       "      <th>train-1000</th>\n",
       "      <td>8</td>\n",
       "      <td>2</td>\n",
       "      <td>3</td>\n",
       "      <td>6</td>\n",
       "      <td>5</td>\n",
       "      <td>1</td>\n",
       "      <td>0</td>\n",
       "      <td>0</td>\n",
       "      <td>0</td>\n",
       "      <td>0</td>\n",
       "      <td>...</td>\n",
       "      <td>0</td>\n",
       "      <td>0</td>\n",
       "      <td>1</td>\n",
       "      <td>1</td>\n",
       "      <td>0</td>\n",
       "      <td>1</td>\n",
       "      <td>1</td>\n",
       "      <td>1</td>\n",
       "      <td>1</td>\n",
       "      <td>0</td>\n",
       "    </tr>\n",
       "    <tr>\n",
       "      <th>train-10000</th>\n",
       "      <td>11</td>\n",
       "      <td>3</td>\n",
       "      <td>2</td>\n",
       "      <td>9</td>\n",
       "      <td>5</td>\n",
       "      <td>1</td>\n",
       "      <td>0</td>\n",
       "      <td>0</td>\n",
       "      <td>0</td>\n",
       "      <td>0</td>\n",
       "      <td>...</td>\n",
       "      <td>0</td>\n",
       "      <td>0</td>\n",
       "      <td>1</td>\n",
       "      <td>1</td>\n",
       "      <td>1</td>\n",
       "      <td>1</td>\n",
       "      <td>1</td>\n",
       "      <td>0</td>\n",
       "      <td>0</td>\n",
       "      <td>1</td>\n",
       "    </tr>\n",
       "  </tbody>\n",
       "</table>\n",
       "<p>5 rows × 47 columns</p>\n",
       "</div>"
      ],
      "text/plain": [
       "             title_count  genres_count  cities_count  tod_count  dow_count  \\\n",
       "train-1               60             3             2         14          7   \n",
       "train-10              70             2             3         16          7   \n",
       "train-100              2             2             1          3          1   \n",
       "train-1000             8             2             3          6          5   \n",
       "train-10000           11             3             2          9          5   \n",
       "\n",
       "             Cricket  Tennis  Comedy  Swimming  Athletics  ...    Volleyball  \\\n",
       "train-1            1       0       0         0          0  ...             0   \n",
       "train-10           1       0       0         0          0  ...             0   \n",
       "train-100          0       0       0         0          0  ...             0   \n",
       "train-1000         1       0       0         0          0  ...             0   \n",
       "train-10000        1       0       0         0          0  ...             0   \n",
       "\n",
       "             Sport  Sports  dow_1  dow_2  dow_4  dow_7  dow_3  dow_5  dow_6  \n",
       "train-1          0       2      1      1      1      1      1      1      1  \n",
       "train-10         0       1      1      1      1      1      1      1      1  \n",
       "train-100        0       1      0      0      0      0      1      0      0  \n",
       "train-1000       0       1      1      0      1      1      1      1      0  \n",
       "train-10000      0       1      1      1      1      1      0      0      1  \n",
       "\n",
       "[5 rows x 47 columns]"
      ]
     },
     "execution_count": 69,
     "metadata": {},
     "output_type": "execute_result"
    }
   ],
   "source": [
    "train_data.head()"
   ]
  },
  {
   "cell_type": "code",
   "execution_count": 71,
   "metadata": {},
   "outputs": [],
   "source": [
    "ht_dt['g3'] = [re.sub(pattern='\\:\\d+', repl='', string = x) for x in ht_dt['tod']]\n",
    "ht_dt['g3'] = ht_dt['g3'].apply(lambda x: x.split(','))"
   ]
  },
  {
   "cell_type": "code",
   "execution_count": 74,
   "metadata": {},
   "outputs": [
    {
     "data": {
      "text/plain": [
       "train-1        [10, 13, 12, 20, 21, 17, 16, 19, 18, 22, 2, 14...\n",
       "train-10       [11, 10, 20, 21, 22, 16, 19, 18, 23, 1, 3, 2, ...\n",
       "train-100                                              [1, 0, 2]\n",
       "train-1000                               [11, 20, 21, 23, 19, 8]\n",
       "train-10000                  [20, 22, 17, 23, 19, 18, 0, 15, 21]\n",
       "Name: g3, dtype: object"
      ]
     },
     "execution_count": 74,
     "metadata": {},
     "output_type": "execute_result"
    }
   ],
   "source": [
    "ht_dt.g3.head()"
   ]
  },
  {
   "cell_type": "code",
   "execution_count": 75,
   "metadata": {},
   "outputs": [],
   "source": [
    "t3 = pd.Series(ht_dt['g3']).apply(frozenset).to_frame(name='t_tod')"
   ]
  },
  {
   "cell_type": "code",
   "execution_count": 76,
   "metadata": {},
   "outputs": [],
   "source": [
    "for t_tod in frozenset.union(*t3.t_tod):\n",
    "    t3[t_tod] = t3.apply(lambda _: int(t_tod in _.t_tod), axis = 1)"
   ]
  },
  {
   "cell_type": "code",
   "execution_count": 77,
   "metadata": {
    "scrolled": true
   },
   "outputs": [
    {
     "data": {
      "text/html": [
       "<div>\n",
       "<style scoped>\n",
       "    .dataframe tbody tr th:only-of-type {\n",
       "        vertical-align: middle;\n",
       "    }\n",
       "\n",
       "    .dataframe tbody tr th {\n",
       "        vertical-align: top;\n",
       "    }\n",
       "\n",
       "    .dataframe thead th {\n",
       "        text-align: right;\n",
       "    }\n",
       "</style>\n",
       "<table border=\"1\" class=\"dataframe\">\n",
       "  <thead>\n",
       "    <tr style=\"text-align: right;\">\n",
       "      <th></th>\n",
       "      <th>t_tod</th>\n",
       "      <th>2</th>\n",
       "      <th>3</th>\n",
       "      <th>23</th>\n",
       "      <th>12</th>\n",
       "      <th>20</th>\n",
       "      <th>0</th>\n",
       "      <th>17</th>\n",
       "      <th>22</th>\n",
       "      <th>4</th>\n",
       "      <th>...</th>\n",
       "      <th>1</th>\n",
       "      <th>18</th>\n",
       "      <th>14</th>\n",
       "      <th>9</th>\n",
       "      <th>11</th>\n",
       "      <th>5</th>\n",
       "      <th>10</th>\n",
       "      <th>6</th>\n",
       "      <th>19</th>\n",
       "      <th>21</th>\n",
       "    </tr>\n",
       "  </thead>\n",
       "  <tbody>\n",
       "    <tr>\n",
       "      <th>train-1</th>\n",
       "      <td>(18, 22, 2, 19, 15, 14, 12, 23, 16, 10, 13, 20...</td>\n",
       "      <td>1</td>\n",
       "      <td>0</td>\n",
       "      <td>1</td>\n",
       "      <td>1</td>\n",
       "      <td>1</td>\n",
       "      <td>0</td>\n",
       "      <td>1</td>\n",
       "      <td>1</td>\n",
       "      <td>0</td>\n",
       "      <td>...</td>\n",
       "      <td>0</td>\n",
       "      <td>1</td>\n",
       "      <td>1</td>\n",
       "      <td>0</td>\n",
       "      <td>0</td>\n",
       "      <td>0</td>\n",
       "      <td>1</td>\n",
       "      <td>0</td>\n",
       "      <td>1</td>\n",
       "      <td>1</td>\n",
       "    </tr>\n",
       "    <tr>\n",
       "      <th>train-10</th>\n",
       "      <td>(11, 1, 18, 22, 2, 3, 15, 23, 5, 9, 16, 8, 10,...</td>\n",
       "      <td>1</td>\n",
       "      <td>1</td>\n",
       "      <td>1</td>\n",
       "      <td>0</td>\n",
       "      <td>1</td>\n",
       "      <td>0</td>\n",
       "      <td>0</td>\n",
       "      <td>1</td>\n",
       "      <td>0</td>\n",
       "      <td>...</td>\n",
       "      <td>1</td>\n",
       "      <td>1</td>\n",
       "      <td>0</td>\n",
       "      <td>1</td>\n",
       "      <td>1</td>\n",
       "      <td>1</td>\n",
       "      <td>1</td>\n",
       "      <td>0</td>\n",
       "      <td>1</td>\n",
       "      <td>1</td>\n",
       "    </tr>\n",
       "    <tr>\n",
       "      <th>train-100</th>\n",
       "      <td>(1, 0, 2)</td>\n",
       "      <td>1</td>\n",
       "      <td>0</td>\n",
       "      <td>0</td>\n",
       "      <td>0</td>\n",
       "      <td>0</td>\n",
       "      <td>1</td>\n",
       "      <td>0</td>\n",
       "      <td>0</td>\n",
       "      <td>0</td>\n",
       "      <td>...</td>\n",
       "      <td>1</td>\n",
       "      <td>0</td>\n",
       "      <td>0</td>\n",
       "      <td>0</td>\n",
       "      <td>0</td>\n",
       "      <td>0</td>\n",
       "      <td>0</td>\n",
       "      <td>0</td>\n",
       "      <td>0</td>\n",
       "      <td>0</td>\n",
       "    </tr>\n",
       "    <tr>\n",
       "      <th>train-1000</th>\n",
       "      <td>(11, 23, 8, 20, 19, 21)</td>\n",
       "      <td>0</td>\n",
       "      <td>0</td>\n",
       "      <td>1</td>\n",
       "      <td>0</td>\n",
       "      <td>1</td>\n",
       "      <td>0</td>\n",
       "      <td>0</td>\n",
       "      <td>0</td>\n",
       "      <td>0</td>\n",
       "      <td>...</td>\n",
       "      <td>0</td>\n",
       "      <td>0</td>\n",
       "      <td>0</td>\n",
       "      <td>0</td>\n",
       "      <td>1</td>\n",
       "      <td>0</td>\n",
       "      <td>0</td>\n",
       "      <td>0</td>\n",
       "      <td>1</td>\n",
       "      <td>1</td>\n",
       "    </tr>\n",
       "    <tr>\n",
       "      <th>train-10000</th>\n",
       "      <td>(21, 18, 22, 0, 15, 23, 20, 19, 17)</td>\n",
       "      <td>0</td>\n",
       "      <td>0</td>\n",
       "      <td>1</td>\n",
       "      <td>0</td>\n",
       "      <td>1</td>\n",
       "      <td>1</td>\n",
       "      <td>1</td>\n",
       "      <td>1</td>\n",
       "      <td>0</td>\n",
       "      <td>...</td>\n",
       "      <td>0</td>\n",
       "      <td>1</td>\n",
       "      <td>0</td>\n",
       "      <td>0</td>\n",
       "      <td>0</td>\n",
       "      <td>0</td>\n",
       "      <td>0</td>\n",
       "      <td>0</td>\n",
       "      <td>1</td>\n",
       "      <td>1</td>\n",
       "    </tr>\n",
       "  </tbody>\n",
       "</table>\n",
       "<p>5 rows × 25 columns</p>\n",
       "</div>"
      ],
      "text/plain": [
       "                                                         t_tod  2  3  23  12  \\\n",
       "train-1      (18, 22, 2, 19, 15, 14, 12, 23, 16, 10, 13, 20...  1  0   1   1   \n",
       "train-10     (11, 1, 18, 22, 2, 3, 15, 23, 5, 9, 16, 8, 10,...  1  1   1   0   \n",
       "train-100                                            (1, 0, 2)  1  0   0   0   \n",
       "train-1000                             (11, 23, 8, 20, 19, 21)  0  0   1   0   \n",
       "train-10000                (21, 18, 22, 0, 15, 23, 20, 19, 17)  0  0   1   0   \n",
       "\n",
       "             20  0  17  22  4 ...  1  18  14  9  11  5  10  6  19  21  \n",
       "train-1       1  0   1   1  0 ...  0   1   1  0   0  0   1  0   1   1  \n",
       "train-10      1  0   0   1  0 ...  1   1   0  1   1  1   1  0   1   1  \n",
       "train-100     0  1   0   0  0 ...  1   0   0  0   0  0   0  0   0   0  \n",
       "train-1000    1  0   0   0  0 ...  0   0   0  0   1  0   0  0   1   1  \n",
       "train-10000   1  1   1   1  0 ...  0   1   0  0   0  0   0  0   1   1  \n",
       "\n",
       "[5 rows x 25 columns]"
      ]
     },
     "execution_count": 77,
     "metadata": {},
     "output_type": "execute_result"
    }
   ],
   "source": [
    "t3.head()"
   ]
  },
  {
   "cell_type": "code",
   "execution_count": 87,
   "metadata": {
    "scrolled": true
   },
   "outputs": [],
   "source": [
    "t4 = pd.DataFrame()\n",
    "t4[\"first_quarter\"] = t3['1'] + t3['2'] + t3['3']+ t3['4']+ t3['5']+ t3['6']\n",
    "t4[\"second_quarter\"] =t3['7'] + t3['8'] + t3['9']+ t3['10']+ t3['11']+ t3['12']\n",
    "t4[\"third_quarter\"] = t3['13'] + t3['14'] + t3['15']+ t3['16']+ t3['17']+ t3['18']\n",
    "t4[\"fourth_quarter\"] = t3['19'] + t3['20'] + t3['21']+ t3['22']+ t3['23']+ t3['0']"
   ]
  },
  {
   "cell_type": "code",
   "execution_count": 89,
   "metadata": {},
   "outputs": [],
   "source": [
    "train_data = pd.merge(train_data, t4, left_index=True,right_index=True)"
   ]
  },
  {
   "cell_type": "code",
   "execution_count": 90,
   "metadata": {
    "scrolled": true
   },
   "outputs": [
    {
     "data": {
      "text/html": [
       "<div>\n",
       "<style scoped>\n",
       "    .dataframe tbody tr th:only-of-type {\n",
       "        vertical-align: middle;\n",
       "    }\n",
       "\n",
       "    .dataframe tbody tr th {\n",
       "        vertical-align: top;\n",
       "    }\n",
       "\n",
       "    .dataframe thead th {\n",
       "        text-align: right;\n",
       "    }\n",
       "</style>\n",
       "<table border=\"1\" class=\"dataframe\">\n",
       "  <thead>\n",
       "    <tr style=\"text-align: right;\">\n",
       "      <th></th>\n",
       "      <th>title_count</th>\n",
       "      <th>genres_count</th>\n",
       "      <th>cities_count</th>\n",
       "      <th>tod_count</th>\n",
       "      <th>dow_count</th>\n",
       "      <th>Cricket</th>\n",
       "      <th>Tennis</th>\n",
       "      <th>Comedy</th>\n",
       "      <th>Swimming</th>\n",
       "      <th>Athletics</th>\n",
       "      <th>...</th>\n",
       "      <th>dow_2</th>\n",
       "      <th>dow_4</th>\n",
       "      <th>dow_7</th>\n",
       "      <th>dow_3</th>\n",
       "      <th>dow_5</th>\n",
       "      <th>dow_6</th>\n",
       "      <th>first_quarter</th>\n",
       "      <th>second_quarter</th>\n",
       "      <th>third_quarter</th>\n",
       "      <th>fourth_quarter</th>\n",
       "    </tr>\n",
       "  </thead>\n",
       "  <tbody>\n",
       "    <tr>\n",
       "      <th>train-1</th>\n",
       "      <td>60</td>\n",
       "      <td>3</td>\n",
       "      <td>2</td>\n",
       "      <td>14</td>\n",
       "      <td>7</td>\n",
       "      <td>1</td>\n",
       "      <td>0</td>\n",
       "      <td>0</td>\n",
       "      <td>0</td>\n",
       "      <td>0</td>\n",
       "      <td>...</td>\n",
       "      <td>1</td>\n",
       "      <td>1</td>\n",
       "      <td>1</td>\n",
       "      <td>1</td>\n",
       "      <td>1</td>\n",
       "      <td>1</td>\n",
       "      <td>1</td>\n",
       "      <td>2</td>\n",
       "      <td>6</td>\n",
       "      <td>5</td>\n",
       "    </tr>\n",
       "    <tr>\n",
       "      <th>train-10</th>\n",
       "      <td>70</td>\n",
       "      <td>2</td>\n",
       "      <td>3</td>\n",
       "      <td>16</td>\n",
       "      <td>7</td>\n",
       "      <td>1</td>\n",
       "      <td>0</td>\n",
       "      <td>0</td>\n",
       "      <td>0</td>\n",
       "      <td>0</td>\n",
       "      <td>...</td>\n",
       "      <td>1</td>\n",
       "      <td>1</td>\n",
       "      <td>1</td>\n",
       "      <td>1</td>\n",
       "      <td>1</td>\n",
       "      <td>1</td>\n",
       "      <td>4</td>\n",
       "      <td>4</td>\n",
       "      <td>3</td>\n",
       "      <td>5</td>\n",
       "    </tr>\n",
       "    <tr>\n",
       "      <th>train-100</th>\n",
       "      <td>2</td>\n",
       "      <td>2</td>\n",
       "      <td>1</td>\n",
       "      <td>3</td>\n",
       "      <td>1</td>\n",
       "      <td>0</td>\n",
       "      <td>0</td>\n",
       "      <td>0</td>\n",
       "      <td>0</td>\n",
       "      <td>0</td>\n",
       "      <td>...</td>\n",
       "      <td>0</td>\n",
       "      <td>0</td>\n",
       "      <td>0</td>\n",
       "      <td>1</td>\n",
       "      <td>0</td>\n",
       "      <td>0</td>\n",
       "      <td>2</td>\n",
       "      <td>0</td>\n",
       "      <td>0</td>\n",
       "      <td>1</td>\n",
       "    </tr>\n",
       "    <tr>\n",
       "      <th>train-1000</th>\n",
       "      <td>8</td>\n",
       "      <td>2</td>\n",
       "      <td>3</td>\n",
       "      <td>6</td>\n",
       "      <td>5</td>\n",
       "      <td>1</td>\n",
       "      <td>0</td>\n",
       "      <td>0</td>\n",
       "      <td>0</td>\n",
       "      <td>0</td>\n",
       "      <td>...</td>\n",
       "      <td>0</td>\n",
       "      <td>1</td>\n",
       "      <td>1</td>\n",
       "      <td>1</td>\n",
       "      <td>1</td>\n",
       "      <td>0</td>\n",
       "      <td>0</td>\n",
       "      <td>2</td>\n",
       "      <td>0</td>\n",
       "      <td>4</td>\n",
       "    </tr>\n",
       "    <tr>\n",
       "      <th>train-10000</th>\n",
       "      <td>11</td>\n",
       "      <td>3</td>\n",
       "      <td>2</td>\n",
       "      <td>9</td>\n",
       "      <td>5</td>\n",
       "      <td>1</td>\n",
       "      <td>0</td>\n",
       "      <td>0</td>\n",
       "      <td>0</td>\n",
       "      <td>0</td>\n",
       "      <td>...</td>\n",
       "      <td>1</td>\n",
       "      <td>1</td>\n",
       "      <td>1</td>\n",
       "      <td>0</td>\n",
       "      <td>0</td>\n",
       "      <td>1</td>\n",
       "      <td>0</td>\n",
       "      <td>0</td>\n",
       "      <td>3</td>\n",
       "      <td>6</td>\n",
       "    </tr>\n",
       "  </tbody>\n",
       "</table>\n",
       "<p>5 rows × 51 columns</p>\n",
       "</div>"
      ],
      "text/plain": [
       "             title_count  genres_count  cities_count  tod_count  dow_count  \\\n",
       "train-1               60             3             2         14          7   \n",
       "train-10              70             2             3         16          7   \n",
       "train-100              2             2             1          3          1   \n",
       "train-1000             8             2             3          6          5   \n",
       "train-10000           11             3             2          9          5   \n",
       "\n",
       "             Cricket  Tennis  Comedy  Swimming  Athletics       ...        \\\n",
       "train-1            1       0       0         0          0       ...         \n",
       "train-10           1       0       0         0          0       ...         \n",
       "train-100          0       0       0         0          0       ...         \n",
       "train-1000         1       0       0         0          0       ...         \n",
       "train-10000        1       0       0         0          0       ...         \n",
       "\n",
       "             dow_2  dow_4  dow_7  dow_3  dow_5  dow_6  first_quarter  \\\n",
       "train-1          1      1      1      1      1      1              1   \n",
       "train-10         1      1      1      1      1      1              4   \n",
       "train-100        0      0      0      1      0      0              2   \n",
       "train-1000       0      1      1      1      1      0              0   \n",
       "train-10000      1      1      1      0      0      1              0   \n",
       "\n",
       "             second_quarter  third_quarter  fourth_quarter  \n",
       "train-1                   2              6               5  \n",
       "train-10                  4              3               5  \n",
       "train-100                 0              0               1  \n",
       "train-1000                2              0               4  \n",
       "train-10000               0              3               6  \n",
       "\n",
       "[5 rows x 51 columns]"
      ]
     },
     "execution_count": 90,
     "metadata": {},
     "output_type": "execute_result"
    }
   ],
   "source": [
    "train_data.head()"
   ]
  },
  {
   "cell_type": "code",
   "execution_count": 221,
   "metadata": {},
   "outputs": [
    {
     "name": "stdout",
     "output_type": "stream",
     "text": [
      "<class 'pandas.core.frame.DataFrame'>\n",
      "Index: 200000 entries, train-1 to train-99999\n",
      "Data columns (total 52 columns):\n",
      "title_count       200000 non-null int64\n",
      "genres_count      200000 non-null int64\n",
      "cities_count      200000 non-null int64\n",
      "tod_count         200000 non-null int64\n",
      "dow_count         200000 non-null int64\n",
      "Cricket           200000 non-null int64\n",
      "Tennis            200000 non-null int64\n",
      "Comedy            200000 non-null int64\n",
      "Swimming          200000 non-null int64\n",
      "Athletics         200000 non-null int64\n",
      "Wildlife          200000 non-null int64\n",
      "Science           200000 non-null int64\n",
      "Family            200000 non-null int64\n",
      "Kabaddi           200000 non-null int64\n",
      "Football          200000 non-null int64\n",
      "Kids              200000 non-null int64\n",
      "Action            200000 non-null int64\n",
      "Travel            200000 non-null int64\n",
      "IndiaVsSa         200000 non-null int64\n",
      "Thriller          200000 non-null int64\n",
      "Teen              200000 non-null int64\n",
      "Mythology         200000 non-null int64\n",
      "Crime             200000 non-null int64\n",
      "Reality           200000 non-null int64\n",
      "FormulaE          200000 non-null int64\n",
      "Drama             200000 non-null int64\n",
      "Documentary       200000 non-null int64\n",
      "Badminton         200000 non-null int64\n",
      "Formula1          200000 non-null int64\n",
      "Awards            200000 non-null int64\n",
      "Horror            200000 non-null int64\n",
      "Boxing            200000 non-null int64\n",
      "Table Tennis      200000 non-null int64\n",
      "Hockey            200000 non-null int64\n",
      "Romance           200000 non-null int64\n",
      "TalkShow          200000 non-null int64\n",
      "LiveTV            200000 non-null int64\n",
      "Volleyball        200000 non-null int64\n",
      "Sport             200000 non-null int64\n",
      "Sports            200000 non-null int64\n",
      "dow_1             200000 non-null int64\n",
      "dow_2             200000 non-null int64\n",
      "dow_4             200000 non-null int64\n",
      "dow_7             200000 non-null int64\n",
      "dow_3             200000 non-null int64\n",
      "dow_5             200000 non-null int64\n",
      "dow_6             200000 non-null int64\n",
      "first_quarter     200000 non-null int64\n",
      "second_quarter    200000 non-null int64\n",
      "third_quarter     200000 non-null int64\n",
      "fourth_quarter    200000 non-null int64\n",
      "y_segment         200000 non-null int64\n",
      "dtypes: int64(52)\n",
      "memory usage: 85.9+ MB\n"
     ]
    }
   ],
   "source": [
    "train_data.info()"
   ]
  },
  {
   "cell_type": "code",
   "execution_count": 94,
   "metadata": {},
   "outputs": [],
   "source": [
    "#train_data.to_csv('train_data.csv',sep=',')\n"
   ]
  },
  {
   "cell_type": "code",
   "execution_count": 147,
   "metadata": {},
   "outputs": [],
   "source": [
    "train_data_v1=train_data[[\"Travel\",\"Reality\",\"Romance\",\"LiveTV\",\"Comedy\",\"Teen\",\"Horror\",\"Awards\",\"Science\",\"Thriller\",\n",
    "              \"Wildlife\",\"Kids\",\"TalkShow\",\"Drama\",\"Action\",\"Mythology\",\"Documentary\",\"Family\",\"Crime\",\"Sports\",\n",
    "               \"dow_1\",\"dow_2\",\"dow_3\",\"dow_4\",\"dow_5\",\"dow_6\",\"dow_7\",\"title_count\",\"genres_count\",\"cities_count\",\"tod_count\",\n",
    "               \"dow_count\"]]"
   ]
  },
  {
   "cell_type": "code",
   "execution_count": 148,
   "metadata": {},
   "outputs": [
    {
     "data": {
      "image/png": "[encoded data removed]",
      "text/plain": [
       "<matplotlib.figure.Figure at 0x22ee1f01358>"
      ]
     },
     "metadata": {},
     "output_type": "display_data"
    }
   ],
   "source": [
    "# Plotting distribution of Segments:\n",
    "sns.countplot(y='segment', data=ht_dt)\n",
    "plt.ylabel('segment')\n",
    "plt.xlabel('Count')\n",
    "plt.title('Distribution of target ')\n",
    "plt.show()"
   ]
  },
  {
   "cell_type": "code",
   "execution_count": 150,
   "metadata": {},
   "outputs": [],
   "source": [
    "dow_1_sum= train_data['dow_1'].sum()\n",
    "dow_2_sum= train_data['dow_2'].sum()\n",
    "dow_3_sum= train_data['dow_3'].sum()\n",
    "dow_4_sum= train_data['dow_4'].sum()\n",
    "dow_5_sum= train_data['dow_5'].sum()\n",
    "dow_6_sum= train_data['dow_6'].sum()\n",
    "dow_7_sum= train_data['dow_7'].sum()"
   ]
  },
  {
   "cell_type": "code",
   "execution_count": 151,
   "metadata": {},
   "outputs": [],
   "source": [
    "dow_count_sum=[115826, 112601, 117451, 127420, 122205, 123738, 122773]"
   ]
  },
  {
   "cell_type": "code",
   "execution_count": 152,
   "metadata": {},
   "outputs": [
    {
     "data": {
      "text/plain": [
       "[115826, 112601, 117451, 127420, 122205, 123738, 122773]"
      ]
     },
     "execution_count": 152,
     "metadata": {},
     "output_type": "execute_result"
    }
   ],
   "source": [
    "dow_count_sum"
   ]
  },
  {
   "cell_type": "code",
   "execution_count": 153,
   "metadata": {},
   "outputs": [
    {
     "data": {
      "image/png": "[encoded data removed]",
      "text/plain": [
       "<matplotlib.figure.Figure at 0x22ee3c84400>"
      ]
     },
     "metadata": {},
     "output_type": "display_data"
    }
   ],
   "source": [
    "colors_dow = ['gold', 'yellowgreen', 'lightcoral', 'lightskyblue', 'red','yellow', 'cyan']\n",
    "#explode = (0.1, 0, 0, 0)\n",
    "plt.figure(figsize=(12,8))\n",
    "plt.pie(dow_count_sum, labels=['dow_1', 'dow_2', 'dow_3', 'dow_4', 'dow_5', 'dow_6', 'dow_7'], colors=colors,\n",
    "       autopct='%1.1f%%', shadow=True, startangle=140)\n",
    "plt.axis('equal')\n",
    "plt.title('Distribution of Viewing Seconds over Days of the Week')\n",
    "plt.show()"
   ]
  },
  {
   "cell_type": "code",
   "execution_count": 154,
   "metadata": {},
   "outputs": [],
   "source": [
    "tod_1_sum= train_data['first_quarter'].sum()\n",
    "tod_2_sum= train_data['second_quarter'].sum()\n",
    "tod_3_sum= train_data['third_quarter'].sum()\n",
    "tod_4_sum= train_data['fourth_quarter'].sum()"
   ]
  },
  {
   "cell_type": "code",
   "execution_count": 155,
   "metadata": {},
   "outputs": [
    {
     "data": {
      "text/plain": [
       "[126947, 344408, 542805, 556467]"
      ]
     },
     "execution_count": 155,
     "metadata": {},
     "output_type": "execute_result"
    }
   ],
   "source": [
    "tod_count_sum = [126947, 344408, 542805, 556467]\n",
    "tod_count_sum"
   ]
  },
  {
   "cell_type": "code",
   "execution_count": 156,
   "metadata": {},
   "outputs": [
    {
     "data": {
      "image/png": "[encoded data removed]",
      "text/plain": [
       "<matplotlib.figure.Figure at 0x22ee42488d0>"
      ]
     },
     "metadata": {},
     "output_type": "display_data"
    }
   ],
   "source": [
    "colors_tod = ['gold', 'yellowgreen', 'lightcoral', 'lightskyblue']\n",
    "#explode = (0.1, 0, 0, 0)\n",
    "plt.figure(figsize=(12,8))\n",
    "plt.pie(tod_count_sum, labels=['first_quarter','second_quarter','third_quarter','fourth_quarter'], colors=colors,\n",
    "       autopct='%1.1f%%', shadow=True, startangle=140)\n",
    "plt.axis('equal')\n",
    "plt.title('Distribution of Viewing Seconds over Time of the Day')\n",
    "plt.show()"
   ]
  },
  {
   "cell_type": "code",
   "execution_count": 182,
   "metadata": {},
   "outputs": [],
   "source": [
    "genre_displaycol = [\"Travel\",\"Reality\",\"Teen\",\"Romance\",\"Science\",\"LiveTV\",\"Comedy\",\"Horror\",\"Thriller\",\"Kids\",\"TalkShow\",\"Awards\",\"Drama\",\"Wildlife\",\"Action\",\"Mythology\",\"Documentary\",\"Family\",\"Crime\",\"Sports\"]\n",
    "   "
   ]
  },
  {
   "cell_type": "code",
   "execution_count": 183,
   "metadata": {},
   "outputs": [],
   "source": [
    "genre_count_sum = []\n",
    "for col in genre_displaycol:\n",
    "    col_val= train_data_v1[col].sum()\n",
    "    genre_count_sum.append(col_val)\n",
    "    "
   ]
  },
  {
   "cell_type": "code",
   "execution_count": 184,
   "metadata": {},
   "outputs": [
    {
     "data": {
      "image/png": "[encoded data removed]",
      "text/plain": [
       "<matplotlib.figure.Figure at 0x22ee64c7eb8>"
      ]
     },
     "metadata": {},
     "output_type": "display_data"
    }
   ],
   "source": [
    "colors_tod = ['gold', 'yellowgreen', 'lightcoral', 'lightskyblue']\n",
    "#explode = (0.1, 0, 0, 0)\n",
    "plt.figure(figsize=(12,20))\n",
    "plt.pie(genre_count_sum, labels=genre_displaycol, colors=colors_tod,\n",
    "       autopct='%1.1f%%',  startangle=140, rotatelabels=True)\n",
    "plt.axis('equal')\n",
    "plt.title('Distribution of Viewing Seconds over Time of the Day')\n",
    "plt.show()"
   ]
  },
  {
   "cell_type": "code",
   "execution_count": 185,
   "metadata": {},
   "outputs": [],
   "source": [
    "city_dc_pkl = pickle.load(open(\"city_dc.pkl\", \"rb\"))"
   ]
  },
  {
   "cell_type": "code",
   "execution_count": 186,
   "metadata": {},
   "outputs": [],
   "source": [
    "final_cities_list_top_pkl = pickle.load(open(\"final_cities_list_display.pkl\", \"rb\"))"
   ]
  },
  {
   "cell_type": "code",
   "execution_count": 220,
   "metadata": {},
   "outputs": [
    {
     "ename": "IndexError",
     "evalue": "list index out of range",
     "output_type": "error",
     "traceback": [
      "\u001b[1;31m---------------------------------------------------------------------------\u001b[0m",
      "\u001b[1;31mIndexError\u001b[0m                                Traceback (most recent call last)",
      "\u001b[1;32m<ipython-input-220-e963cec2f8c5>\u001b[0m in \u001b[0;36m<module>\u001b[1;34m()\u001b[0m\n\u001b[0;32m      5\u001b[0m     \u001b[1;32mfor\u001b[0m \u001b[0mj\u001b[0m \u001b[1;32min\u001b[0m \u001b[0mrange\u001b[0m\u001b[1;33m(\u001b[0m\u001b[0mlen\u001b[0m\u001b[1;33m(\u001b[0m\u001b[0mcity_dc_pkl\u001b[0m\u001b[1;33m)\u001b[0m\u001b[1;33m-\u001b[0m\u001b[1;36m1\u001b[0m\u001b[1;33m)\u001b[0m\u001b[1;33m:\u001b[0m\u001b[1;33m\u001b[0m\u001b[0m\n\u001b[0;32m      6\u001b[0m         \u001b[1;32mfor\u001b[0m \u001b[0mk\u001b[0m \u001b[1;32min\u001b[0m \u001b[0mrange\u001b[0m\u001b[1;33m(\u001b[0m\u001b[0mj\u001b[0m\u001b[1;33m)\u001b[0m\u001b[1;33m:\u001b[0m\u001b[1;33m\u001b[0m\u001b[0m\n\u001b[1;32m----> 7\u001b[1;33m             \u001b[1;32mif\u001b[0m \u001b[0mi\u001b[0m\u001b[1;33m==\u001b[0m\u001b[0mcity_dc_pkl\u001b[0m\u001b[1;33m[\u001b[0m\u001b[0mj\u001b[0m\u001b[1;33m]\u001b[0m\u001b[1;33m[\u001b[0m\u001b[0mk\u001b[0m\u001b[1;33m]\u001b[0m\u001b[1;33m.\u001b[0m\u001b[0mkeys\u001b[0m\u001b[1;33m(\u001b[0m\u001b[1;33m)\u001b[0m\u001b[1;33m:\u001b[0m\u001b[1;33m\u001b[0m\u001b[0m\n\u001b[0m\u001b[0;32m      8\u001b[0m                 \u001b[0mtop_city\u001b[0m\u001b[1;33m+=\u001b[0m\u001b[0mcity_dc_pkl\u001b[0m\u001b[1;33m[\u001b[0m\u001b[0mj\u001b[0m\u001b[1;33m]\u001b[0m\u001b[1;33m[\u001b[0m\u001b[0mk\u001b[0m\u001b[1;33m]\u001b[0m\u001b[1;33m[\u001b[0m\u001b[0mi\u001b[0m\u001b[1;33m]\u001b[0m\u001b[1;33m\u001b[0m\u001b[0m\n\u001b[0;32m      9\u001b[0m                 \u001b[0mprint\u001b[0m\u001b[1;33m(\u001b[0m\u001b[0mtop_city\u001b[0m\u001b[1;33m)\u001b[0m\u001b[1;33m\u001b[0m\u001b[0m\n",
      "\u001b[1;31mIndexError\u001b[0m: list index out of range"
     ]
    }
   ],
   "source": [
    "\n",
    "top_city_display=[]\n",
    "for i in final_cities_list_top_pkl:\n",
    "    #top_city=0\n",
    "    for j in range(len(city_dc_pkl)-):\n",
    "        for k in range(j):\n",
    "            if i==city_dc_pkl[j][k].keys():\n",
    "                top_city+=city_dc_pkl[j][k][i]\n",
    "                print(top_city)"
   ]
  },
  {
   "cell_type": "code",
   "execution_count": 217,
   "metadata": {},
   "outputs": [
    {
     "data": {
      "text/plain": [
       "dict_keys(['Haryana'])"
      ]
     },
     "execution_count": 217,
     "metadata": {},
     "output_type": "execute_result"
    }
   ],
   "source": [
    "city_dc_pkl[0][0].keys()"
   ]
  },
  {
   "cell_type": "code",
   "execution_count": 192,
   "metadata": {},
   "outputs": [
    {
     "data": {
      "text/plain": [
       "['Haryana',\n",
       " 'NCT',\n",
       " 'Rajasthan',\n",
       " 'Maharashtra',\n",
       " 'Tamil Nadu',\n",
       " 'Telangana',\n",
       " 'bangalore',\n",
       " 'Karnataka',\n",
       " 'Chandigarh',\n",
       " 'Bangladesh',\n",
       " 'Andhra Pradesh',\n",
       " 'Madhya Pradesh',\n",
       " 'Unknown',\n",
       " 'Gujarat',\n",
       " 'gandhinagar',\n",
       " 'West Bengal',\n",
       " 'Pakistan',\n",
       " 'prabhadevi',\n",
       " 'Haryana',\n",
       " 'NCT',\n",
       " 'Rajasthan',\n",
       " 'Maharashtra',\n",
       " 'Tamil Nadu',\n",
       " 'Telangana',\n",
       " 'bangalore',\n",
       " 'Karnataka',\n",
       " 'Chandigarh',\n",
       " 'Bangladesh',\n",
       " 'Andhra Pradesh',\n",
       " 'Madhya Pradesh',\n",
       " 'Unknown',\n",
       " 'Gujarat',\n",
       " 'gandhinagar',\n",
       " 'West Bengal',\n",
       " 'dubayy',\n",
       " 'Pakistan',\n",
       " 'prabhadevi']"
      ]
     },
     "execution_count": 192,
     "metadata": {},
     "output_type": "execute_result"
    }
   ],
   "source": [
    "final_cities_list_top_pkl"
   ]
  },
  {
   "cell_type": "code",
   "execution_count": 197,
   "metadata": {},
   "outputs": [],
   "source": []
  },
  {
   "cell_type": "code",
   "execution_count": 204,
   "metadata": {},
   "outputs": [
    {
     "name": "stderr",
     "output_type": "stream",
     "text": [
      "C:\\ProgramData\\Anaconda3\\lib\\site-packages\\ipykernel_launcher.py:1: SettingWithCopyWarning: \n",
      "A value is trying to be set on a copy of a slice from a DataFrame.\n",
      "Try using .loc[row_indexer,col_indexer] = value instead\n",
      "\n",
      "See the caveats in the documentation: http://pandas.pydata.org/pandas-docs/stable/indexing.html#indexing-view-versus-copy\n",
      "  \"\"\"Entry point for launching an IPython kernel.\n"
     ]
    }
   ],
   "source": [
    "train_data_v1['y_segment'] =  ht_dt['segment'].apply(lambda x: 0 if x == \"neg\" else 1)"
   ]
  },
  {
   "cell_type": "code",
   "execution_count": 206,
   "metadata": {},
   "outputs": [],
   "source": [
    "#train_data_v1.to_csv('model_data_v1.csv')"
   ]
  },
  {
   "cell_type": "code",
   "execution_count": null,
   "metadata": {},
   "outputs": [],
   "source": []
  }
 ],
 "metadata": {
  "kernelspec": {
   "display_name": "Python 3",
   "language": "python",
   "name": "python3"
  },
  "language_info": {
   "codemirror_mode": {
    "name": "ipython",
    "version": 3
   },
   "file_extension": ".py",
   "mimetype": "text/x-python",
   "name": "python",
   "nbconvert_exporter": "python",
   "pygments_lexer": "ipython3",
   "version": "3.6.4"
  }
 },
 "nbformat": 4,
 "nbformat_minor": 2
}
